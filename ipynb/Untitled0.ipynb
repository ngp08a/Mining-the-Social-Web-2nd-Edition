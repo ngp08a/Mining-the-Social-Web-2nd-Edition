{
 "metadata": {
  "name": ""
 },
 "nbformat": 3,
 "nbformat_minor": 0,
 "worksheets": [
  {
   "cells": [
    {
     "cell_type": "code",
     "collapsed": false,
     "input": [
      "from crawler.crawler import Crawler\n",
      "cd /vagrant/ipynb\n",
      "\n",
      "p = 1\n",
      "while p<20:\n",
      "    mycrawler = Crawler()\n",
      "    html = 'http://www.glassdoor.com/Reviews/Merrill-Lynch-Reviews-E440_p%s.htm' % p\n",
      "    print html\n",
      "    seeds = [html] # list of url\n",
      "    mycrawler.add_seeds(seeds)\n",
      "    rules = {html:[ '^(http://[*].htm)$' ]}\n",
      "    #rules = {'http://www.glassdoor.com/Reviews/Merrill-Lynch-Reviews-E440.htm':[ '^(http://.+www.glassdoor.com/Reviews/Merrill-Lynch-Reviews-[a-zA-Z0-9_].htm)(.+)$' ]}\n",
      "    #your crawling rules: a dictionary type, \n",
      "    #key is the regular expressions for url, \n",
      "    #value is the list of regular expressions for urls which you want to follow from the url in key.\n",
      "    mycrawler.add_rules(rules)\n",
      "    p+=1\n",
      "    mycrawler.start() # start crawling"
     ],
     "language": "python",
     "metadata": {},
     "outputs": [
      {
       "output_type": "stream",
       "stream": "stdout",
       "text": [
        "http://www.glassdoor.com/Reviews/Merrill-Lynch-Reviews-E440_p1.htm\n",
        "http://www.glassdoor.com/Reviews/Merrill-Lynch-Reviews-E440_p1.htm\n",
        "sleep"
       ]
      },
      {
       "output_type": "stream",
       "stream": "stdout",
       "text": [
        " 0 of 3\n",
        "sleep"
       ]
      },
      {
       "output_type": "stream",
       "stream": "stdout",
       "text": [
        " 1 of 3\n",
        "sleep"
       ]
      },
      {
       "output_type": "stream",
       "stream": "stdout",
       "text": [
        " 2 of 3\n",
        "None\n",
        "crawling task is done.\n",
        "http://www.glassdoor.com/Reviews/Merrill-Lynch-Reviews-E440_p2.htm\n",
        "http://www.glassdoor.com/Reviews/Merrill-Lynch-Reviews-E440_p2.htm\n",
        "sleep"
       ]
      },
      {
       "output_type": "stream",
       "stream": "stdout",
       "text": [
        " 0 of 3\n",
        "sleep"
       ]
      },
      {
       "output_type": "stream",
       "stream": "stdout",
       "text": [
        " 1 of 3\n",
        "sleep"
       ]
      },
      {
       "output_type": "stream",
       "stream": "stdout",
       "text": [
        " 2 of 3\n",
        "None\n",
        "crawling task is done.\n",
        "http://www.glassdoor.com/Reviews/Merrill-Lynch-Reviews-E440_p3.htm\n",
        "http://www.glassdoor.com/Reviews/Merrill-Lynch-Reviews-E440_p3.htm\n",
        "sleep"
       ]
      },
      {
       "output_type": "stream",
       "stream": "stdout",
       "text": [
        " 0 of 3\n",
        "sleep"
       ]
      },
      {
       "output_type": "stream",
       "stream": "stdout",
       "text": [
        " 1 of 3\n",
        "sleep"
       ]
      },
      {
       "output_type": "stream",
       "stream": "stdout",
       "text": [
        " 2 of 3\n",
        "None\n",
        "crawling task is done.\n",
        "http://www.glassdoor.com/Reviews/Merrill-Lynch-Reviews-E440_p4.htm\n",
        "http://www.glassdoor.com/Reviews/Merrill-Lynch-Reviews-E440_p4.htm\n",
        "sleep"
       ]
      },
      {
       "output_type": "stream",
       "stream": "stdout",
       "text": [
        " 0 of 3\n",
        "sleep"
       ]
      },
      {
       "output_type": "stream",
       "stream": "stdout",
       "text": [
        " 1 of 3\n",
        "sleep"
       ]
      },
      {
       "output_type": "stream",
       "stream": "stdout",
       "text": [
        " 2 of 3\n",
        "None\n",
        "crawling task is done.\n",
        "http://www.glassdoor.com/Reviews/Merrill-Lynch-Reviews-E440_p5.htm\n",
        "http://www.glassdoor.com/Reviews/Merrill-Lynch-Reviews-E440_p5.htm\n",
        "sleep"
       ]
      },
      {
       "output_type": "stream",
       "stream": "stdout",
       "text": [
        " 0 of 3\n",
        "sleep"
       ]
      },
      {
       "output_type": "stream",
       "stream": "stdout",
       "text": [
        " 1 of 3\n",
        "sleep"
       ]
      },
      {
       "output_type": "stream",
       "stream": "stdout",
       "text": [
        " 2 of 3\n",
        "None\n",
        "crawling task is done.\n",
        "http://www.glassdoor.com/Reviews/Merrill-Lynch-Reviews-E440_p6.htm\n",
        "http://www.glassdoor.com/Reviews/Merrill-Lynch-Reviews-E440_p6.htm\n",
        "sleep"
       ]
      },
      {
       "output_type": "stream",
       "stream": "stdout",
       "text": [
        " 0 of 3\n",
        "sleep"
       ]
      },
      {
       "output_type": "stream",
       "stream": "stdout",
       "text": [
        " 1 of 3\n",
        "sleep"
       ]
      },
      {
       "output_type": "stream",
       "stream": "stdout",
       "text": [
        " 2 of 3\n",
        "None\n",
        "crawling task is done.\n",
        "http://www.glassdoor.com/Reviews/Merrill-Lynch-Reviews-E440_p7.htm\n",
        "http://www.glassdoor.com/Reviews/Merrill-Lynch-Reviews-E440_p7.htm\n",
        "sleep"
       ]
      },
      {
       "output_type": "stream",
       "stream": "stdout",
       "text": [
        " 0 of 3\n",
        "sleep"
       ]
      },
      {
       "output_type": "stream",
       "stream": "stdout",
       "text": [
        " 1 of 3\n",
        "sleep"
       ]
      },
      {
       "output_type": "stream",
       "stream": "stdout",
       "text": [
        " 2 of 3\n",
        "None\n",
        "crawling task is done.\n",
        "http://www.glassdoor.com/Reviews/Merrill-Lynch-Reviews-E440_p8.htm\n",
        "http://www.glassdoor.com/Reviews/Merrill-Lynch-Reviews-E440_p8.htm\n",
        "sleep"
       ]
      },
      {
       "output_type": "stream",
       "stream": "stdout",
       "text": [
        " 0 of 3\n",
        "sleep"
       ]
      },
      {
       "output_type": "stream",
       "stream": "stdout",
       "text": [
        " 1 of 3\n",
        "sleep"
       ]
      },
      {
       "output_type": "stream",
       "stream": "stdout",
       "text": [
        " 2 of 3\n",
        "None\n",
        "crawling task is done.\n",
        "http://www.glassdoor.com/Reviews/Merrill-Lynch-Reviews-E440_p9.htm\n",
        "http://www.glassdoor.com/Reviews/Merrill-Lynch-Reviews-E440_p9.htm\n",
        "sleep"
       ]
      },
      {
       "output_type": "stream",
       "stream": "stdout",
       "text": [
        " 0 of 3\n",
        "sleep"
       ]
      },
      {
       "output_type": "stream",
       "stream": "stdout",
       "text": [
        " 1 of 3\n",
        "sleep"
       ]
      },
      {
       "output_type": "stream",
       "stream": "stdout",
       "text": [
        " 2 of 3\n",
        "None\n",
        "crawling task is done.\n",
        "http://www.glassdoor.com/Reviews/Merrill-Lynch-Reviews-E440_p10.htm\n",
        "http://www.glassdoor.com/Reviews/Merrill-Lynch-Reviews-E440_p10.htm\n",
        "sleep"
       ]
      },
      {
       "output_type": "stream",
       "stream": "stdout",
       "text": [
        " 0 of 3\n",
        "sleep"
       ]
      },
      {
       "output_type": "stream",
       "stream": "stdout",
       "text": [
        " 1 of 3\n",
        "sleep"
       ]
      },
      {
       "output_type": "stream",
       "stream": "stdout",
       "text": [
        " 2 of 3\n",
        "None\n",
        "crawling task is done.\n",
        "http://www.glassdoor.com/Reviews/Merrill-Lynch-Reviews-E440_p11.htm\n",
        "http://www.glassdoor.com/Reviews/Merrill-Lynch-Reviews-E440_p11.htm\n",
        "sleep"
       ]
      },
      {
       "output_type": "stream",
       "stream": "stdout",
       "text": [
        " 0 of 3\n",
        "sleep"
       ]
      },
      {
       "output_type": "stream",
       "stream": "stdout",
       "text": [
        " 1 of 3\n",
        "sleep"
       ]
      },
      {
       "output_type": "stream",
       "stream": "stdout",
       "text": [
        " 2 of 3\n",
        "None\n",
        "crawling task is done.\n",
        "http://www.glassdoor.com/Reviews/Merrill-Lynch-Reviews-E440_p12.htm\n",
        "http://www.glassdoor.com/Reviews/Merrill-Lynch-Reviews-E440_p12.htm\n",
        "sleep"
       ]
      },
      {
       "output_type": "stream",
       "stream": "stdout",
       "text": [
        " 0 of 3\n",
        "sleep"
       ]
      },
      {
       "output_type": "stream",
       "stream": "stdout",
       "text": [
        " 1 of 3\n",
        "sleep"
       ]
      },
      {
       "output_type": "stream",
       "stream": "stdout",
       "text": [
        " 2 of 3\n",
        "None\n",
        "crawling task is done.\n",
        "http://www.glassdoor.com/Reviews/Merrill-Lynch-Reviews-E440_p13.htm\n",
        "http://www.glassdoor.com/Reviews/Merrill-Lynch-Reviews-E440_p13.htm\n",
        "sleep"
       ]
      },
      {
       "output_type": "stream",
       "stream": "stdout",
       "text": [
        " 0 of 3\n",
        "sleep"
       ]
      },
      {
       "output_type": "stream",
       "stream": "stdout",
       "text": [
        " 1 of 3\n",
        "sleep"
       ]
      },
      {
       "output_type": "stream",
       "stream": "stdout",
       "text": [
        " 2 of 3\n",
        "None\n",
        "crawling task is done.\n",
        "http://www.glassdoor.com/Reviews/Merrill-Lynch-Reviews-E440_p14.htm\n",
        "http://www.glassdoor.com/Reviews/Merrill-Lynch-Reviews-E440_p14.htm\n",
        "sleep"
       ]
      },
      {
       "output_type": "stream",
       "stream": "stdout",
       "text": [
        " 0 of 3\n",
        "sleep"
       ]
      },
      {
       "output_type": "stream",
       "stream": "stdout",
       "text": [
        " 1 of 3\n",
        "sleep"
       ]
      },
      {
       "output_type": "stream",
       "stream": "stdout",
       "text": [
        " 2 of 3\n",
        "None\n",
        "crawling task is done.\n",
        "http://www.glassdoor.com/Reviews/Merrill-Lynch-Reviews-E440_p15.htm\n",
        "http://www.glassdoor.com/Reviews/Merrill-Lynch-Reviews-E440_p15.htm\n",
        "sleep"
       ]
      },
      {
       "output_type": "stream",
       "stream": "stdout",
       "text": [
        " 0 of 3\n",
        "sleep"
       ]
      },
      {
       "output_type": "stream",
       "stream": "stdout",
       "text": [
        " 1 of 3\n",
        "sleep"
       ]
      },
      {
       "output_type": "stream",
       "stream": "stdout",
       "text": [
        " 2 of 3\n",
        "None\n",
        "crawling task is done.\n",
        "http://www.glassdoor.com/Reviews/Merrill-Lynch-Reviews-E440_p16.htm\n",
        "http://www.glassdoor.com/Reviews/Merrill-Lynch-Reviews-E440_p16.htm\n",
        "sleep"
       ]
      },
      {
       "output_type": "stream",
       "stream": "stdout",
       "text": [
        " 0 of 3\n",
        "sleep"
       ]
      },
      {
       "output_type": "stream",
       "stream": "stdout",
       "text": [
        " 1 of 3\n",
        "sleep"
       ]
      },
      {
       "output_type": "stream",
       "stream": "stdout",
       "text": [
        " 2 of 3\n",
        "None\n",
        "crawling task is done.\n",
        "http://www.glassdoor.com/Reviews/Merrill-Lynch-Reviews-E440_p17.htm\n",
        "http://www.glassdoor.com/Reviews/Merrill-Lynch-Reviews-E440_p17.htm\n",
        "sleep"
       ]
      },
      {
       "output_type": "stream",
       "stream": "stdout",
       "text": [
        " 0 of 3\n",
        "sleep"
       ]
      },
      {
       "output_type": "stream",
       "stream": "stdout",
       "text": [
        " 1 of 3\n",
        "sleep"
       ]
      },
      {
       "output_type": "stream",
       "stream": "stdout",
       "text": [
        " 2 of 3\n",
        "None\n",
        "crawling task is done.\n",
        "http://www.glassdoor.com/Reviews/Merrill-Lynch-Reviews-E440_p18.htm\n",
        "http://www.glassdoor.com/Reviews/Merrill-Lynch-Reviews-E440_p18.htm\n",
        "sleep"
       ]
      },
      {
       "output_type": "stream",
       "stream": "stdout",
       "text": [
        " 0 of 3\n",
        "sleep"
       ]
      },
      {
       "output_type": "stream",
       "stream": "stdout",
       "text": [
        " 1 of 3\n",
        "sleep"
       ]
      },
      {
       "output_type": "stream",
       "stream": "stdout",
       "text": [
        " 2 of 3\n",
        "None\n",
        "crawling task is done.\n",
        "http://www.glassdoor.com/Reviews/Merrill-Lynch-Reviews-E440_p19.htm\n",
        "http://www.glassdoor.com/Reviews/Merrill-Lynch-Reviews-E440_p19.htm\n",
        "sleep"
       ]
      },
      {
       "output_type": "stream",
       "stream": "stdout",
       "text": [
        " 0 of 3\n",
        "sleep"
       ]
      },
      {
       "output_type": "stream",
       "stream": "stdout",
       "text": [
        " 1 of 3\n",
        "sleep"
       ]
      },
      {
       "output_type": "stream",
       "stream": "stdout",
       "text": [
        " 2 of 3\n",
        "None\n",
        "crawling task is done.\n"
       ]
      }
     ],
     "prompt_number": 114
    },
    {
     "cell_type": "code",
     "collapsed": false,
     "input": [
      "from bsddb import db\n",
      "\n",
      "webDB = db.DB()\n",
      "webDB.open(\"webpage.db\", None, db.DB_HASH, db.DB_DIRTY_READ)\n",
      "\n",
      "# get database cursor and print out database content\n",
      "cursor = webDB.cursor()\n",
      "rec = cursor.first()\n",
      "while rec:\n",
      "        print rec\n",
      "        rec = cursor.next()\n",
      "webDB.close()"
     ],
     "language": "python",
     "metadata": {},
     "outputs": [],
     "prompt_number": 128
    },
    {
     "cell_type": "code",
     "collapsed": false,
     "input": [
      "import os\n",
      "os.getcwd( )\n",
      "\n",
      "crawler??"
     ],
     "language": "python",
     "metadata": {},
     "outputs": [],
     "prompt_number": 129
    },
    {
     "cell_type": "code",
     "collapsed": false,
     "input": [
      "crawler.database??"
     ],
     "language": "python",
     "metadata": {},
     "outputs": [],
     "prompt_number": 131
    },
    {
     "cell_type": "code",
     "collapsed": false,
     "input": [],
     "language": "python",
     "metadata": {},
     "outputs": []
    }
   ],
   "metadata": {}
  }
 ]
}